{
 "cells": [
  {
   "cell_type": "raw",
   "id": "3a1ffc9b-7f03-4135-a6b8-5b754b965c02",
   "metadata": {
    "execution": {
     "iopub.execute_input": "2022-03-04T17:08:05.991221Z",
     "iopub.status.busy": "2022-03-04T17:08:05.991221Z",
     "iopub.status.idle": "2022-03-04T17:08:06.003221Z",
     "shell.execute_reply": "2022-03-04T17:08:06.003221Z",
     "shell.execute_reply.started": "2022-03-04T17:08:05.991221Z"
    }
   },
   "source": [
    "Headings: Use #s followed by a blank space for notebook titles and section headings:\n",
    "# title\n",
    "## major headings\n",
    "### subheadings\n",
    "#### 4th level subheadings"
   ]
  },
  {
   "cell_type": "markdown",
   "id": "f6fd898f-acb6-4808-a35f-cdb888d8ee6a",
   "metadata": {},
   "source": [
    "# title\n",
    "## major headings\n",
    "### <a id=\"heading_ID\">subheadings</a>\n",
    "#### 4th level subheadings"
   ]
  },
  {
   "cell_type": "raw",
   "id": "91c4ea1b-212a-49ec-b363-525e81ce9e14",
   "metadata": {},
   "source": [
    "1. Emphasis: Use this code: Bold: __string__ or **string** Italic: _string_ or *string*\n",
    "2. Mathematical symbols: Use this code: $ mathematical symbols $\n",
    "3. Monospace font: Surround text with a back single quotation mark. (`) Use monospace for file path and file names and for text users enter or message text users see.\n",
    "4. Line breaks: Sometimes markdown doesn’t make line breaks when you want them. Use 2 spaces or this code for a manual line break: <br>    \n",
    "5. Colors: Use this code: <font color=blue|red|green|pink|yellow>Text</font> Not all markdown code works within a font tag, so review your colored text carefully!\n",
    "6. Indented quoting: Use a greater than sign (>) and then a space, then type the text. The text is indented and has a gray horizontal line to the left of it until the next    carriage return.\n"
   ]
  },
  {
   "cell_type": "markdown",
   "id": "1eafe272-7759-483a-8fcf-c41bd50198c3",
   "metadata": {},
   "source": [
    "Emphasis: Use this code: Bold: __string__ or **string** Italic: _string_ or *string* \\\n",
    "Mathematical symbols: Use this code: $ mathematical symbols $ \\\n",
    "Monospace font: Surround text with a back single quotation mark. `Use monospace for file path and file names and for text users enter or message text users see.`\n",
    "Line breaks: Sometimes markdown doesn’t make line breaks when you want them. Use 2 spaces or this code for a manual line break: <br>\n",
    "Colors: Use this code: <font color=blue|red|green|pink|yellow>Text</font> Not all markdown code works within a font tag, so review your colored text carefully!<br>\n",
    "Indented quoting: \n",
    "> Use a greater than sign (>) and then a space, then type the text. The text is indented and has a gray horizontal line to the left of it until the next carriage return.<br>"
   ]
  },
  {
   "cell_type": "raw",
   "id": "d946584a-7dff-42ae-98eb-0922a521aec0",
   "metadata": {},
   "source": [
    "Bullets: Use the dash sign (- ) with a space after it, or a space, a dash, and a space ( - ), to create a circular bullet. To create a sub bullet, use a tab followed a dash and a space. You can also use an asterisk instead of a dash, and it works the same."
   ]
  },
  {
   "cell_type": "markdown",
   "id": "b4d9e6c1-46bf-416b-b2d7-ffc935892e21",
   "metadata": {},
   "source": [
    "Bullets: \n",
    "- Use the dash sign (- ) with a space after it, or a space, a dash, and a space ( - ), \n",
    "- ( - ) to create a circular bullet. \n",
    "- To create a sub bullet, use a tab followed a dash and a space. You can also use an asterisk instead of a dash, and it works the same."
   ]
  },
  {
   "cell_type": "raw",
   "id": "9364cdfc-2407-42a7-9fa1-86cea307fb87",
   "metadata": {},
   "source": [
    "Numbered lists: Start with 1. followed by a space, then it starts numbering for you. Start each line with some number and a period, then a space. Tab to indent to get subnumbering."
   ]
  },
  {
   "cell_type": "markdown",
   "id": "4e3e2082-ea6c-48a3-ace2-399df4d32f25",
   "metadata": {},
   "source": [
    "Numbered lists: Start with 1. followed by a space,\n",
    "1. then it starts numbering for you. \n",
    "2. Start each line with some number and a period, then a space. \n",
    "3. Tab to indent to get subnumbering."
   ]
  },
  {
   "cell_type": "raw",
   "id": "bd7bbf69-0964-4147-a07b-210ca896ae8d",
   "metadata": {},
   "source": [
    "Graphics: You can attach image files directly to a notebook only in Markdown cells. Drag and drop your images to the Markdown cell to attach it to the notebook. To add images to other cell types, you can use only graphics that are hosted on the web. You can’t add captions for graphics at this time. Use this code:"
   ]
  },
  {
   "cell_type": "markdown",
   "id": "4e28e770-815b-43fb-8ac2-1c7ee87ad9b1",
   "metadata": {},
   "source": [
    "Graphics: You can attach image files directly to a notebook only in Markdown cells. Drag and drop your images to the Markdown cell to attach it to the notebook. To add images to other cell types, you can use only graphics that are hosted on the web. You can’t add captions for graphics at this time. Use this code: <br>\n",
    "<img src=\"resource/title.png\" alt=\"Alt text that describes the graphic\" title=\"Title text\" />"
   ]
  },
  {
   "cell_type": "raw",
   "id": "903bcf20-4e37-4bdc-880f-4fb0ceb88e77",
   "metadata": {},
   "source": [
    "Horizontal lines: Use three asterisks: ***"
   ]
  },
  {
   "cell_type": "markdown",
   "id": "863b345f-8d58-4be5-9cf0-3103c581b6ff",
   "metadata": {
    "execution": {
     "iopub.execute_input": "2022-03-04T17:22:14.536035Z",
     "iopub.status.busy": "2022-03-04T17:22:14.535038Z",
     "iopub.status.idle": "2022-03-04T17:22:14.555030Z",
     "shell.execute_reply": "2022-03-04T17:22:14.555030Z",
     "shell.execute_reply.started": "2022-03-04T17:22:14.536035Z"
    }
   },
   "source": [
    "***"
   ]
  },
  {
   "cell_type": "raw",
   "id": "239bb736-d04a-4bfe-90fc-61540ba15092",
   "metadata": {},
   "source": [
    "Internal links: To link to a heading, use this code: [heading title](#heading-title) For the text in the parentheses, replace spaces and special characters with a hyphen. Make sure to test all the links!"
   ]
  },
  {
   "cell_type": "markdown",
   "id": "7f58617e-ae4d-40a1-9191-8a490e5c4804",
   "metadata": {
    "execution": {
     "iopub.execute_input": "2022-03-04T17:23:22.685922Z",
     "iopub.status.busy": "2022-03-04T17:23:22.685922Z",
     "iopub.status.idle": "2022-03-04T17:23:22.688919Z",
     "shell.execute_reply": "2022-03-04T17:23:22.688919Z",
     "shell.execute_reply.started": "2022-03-04T17:23:22.685922Z"
    }
   },
   "source": [
    "[This is link to major headings1.1](#major-headings)"
   ]
  },
  {
   "cell_type": "raw",
   "id": "a092ec22-6f0a-4dbb-9abc-cffc1251b8de",
   "metadata": {},
   "source": [
    "Alternatively, you can add an ID for a heading right above the title. Use this code: <a id=\"heading_ID\"></a> Make sure that the heading_ID is unique within the notebook.\n",
    "Use this code for the link and make sure to test all the links! [heading title](#heading_ID)"
   ]
  },
  {
   "cell_type": "markdown",
   "id": "75bef181-68f3-499f-99bc-eeaa88a566b0",
   "metadata": {
    "execution": {
     "iopub.execute_input": "2022-03-04T17:28:22.039950Z",
     "iopub.status.busy": "2022-03-04T17:28:22.038953Z",
     "iopub.status.idle": "2022-03-04T17:28:22.054258Z",
     "shell.execute_reply": "2022-03-04T17:28:22.054258Z",
     "shell.execute_reply.started": "2022-03-04T17:28:22.039950Z"
    }
   },
   "source": [
    "[heading title](#heading_ID)"
   ]
  },
  {
   "cell_type": "code",
   "execution_count": null,
   "id": "88632bd4-e167-47d7-b5e8-9d7f6bf96b7f",
   "metadata": {},
   "outputs": [],
   "source": []
  }
 ],
 "metadata": {
  "kernelspec": {
   "display_name": "Python 3 (ipykernel)",
   "language": "python",
   "name": "python3"
  },
  "language_info": {
   "codemirror_mode": {
    "name": "ipython",
    "version": 3
   },
   "file_extension": ".py",
   "mimetype": "text/x-python",
   "name": "python",
   "nbconvert_exporter": "python",
   "pygments_lexer": "ipython3",
   "version": "3.8.10"
  }
 },
 "nbformat": 4,
 "nbformat_minor": 5
}
